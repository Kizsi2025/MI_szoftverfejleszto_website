{
  "cells": [
    {
      "cell_type": "markdown",
      "metadata": {
        "id": "view-in-github",
        "colab_type": "text"
      },
      "source": [
        "<a href=\"https://colab.research.google.com/github/Kizsi2025/MI_szoftverfejleszto_website/blob/main/Python_k%C3%B3d_Id%C5%91j%C3%A1r%C3%A1s_lek%C3%A9rdez%C5%91_Tool.ipynb\" target=\"_parent\"><img src=\"https://colab.research.google.com/assets/colab-badge.svg\" alt=\"Open In Colab\"/></a>"
      ]
    },
    {
      "cell_type": "code",
      "source": [
        "# FONTOS: Ezt a kódot Jupyter Notebookban vagy Google Colab-ban kell futtatni.\n",
        "\n",
        "# Először is, importálnunk kell a szükséges könyvtárakat.\n",
        "# A 'requests' könyvtárral tudunk HTTP kéréseket küldeni az API-nak.\n",
        "# A 'json' könyvtárral tudjuk feldolgozni a kapott JSON formátumú adatokat.\n",
        "import requests\n",
        "import json\n",
        "\n",
        "# A Python interpreter megmutatja, hogy a kód egy tool (eszköz).\n",
        "print(\"--- [TOOL START] ---\")\n",
        "\n",
        "# Definiáljuk a lekérdezni kívánt város koordinátáit.\n",
        "# Például, Budapest (Magyarország) koordinátái.\n",
        "latitude = 47.4979\n",
        "longitude = 19.0402\n",
        "\n",
        "# Az Open-Meteo API URL-je, amellyel lekérdezhetjük az időjárást.\n",
        "# A 'params' szótárban adjuk meg a lekérdezés paramétereit.\n",
        "api_url = \"https://api.open-meteo.com/v1/forecast\"\n",
        "params = {\n",
        "    \"latitude\": latitude,\n",
        "    \"longitude\": longitude,\n",
        "    \"current_weather\": True\n",
        "}\n",
        "\n",
        "# HTTP GET kérés küldése az API-nak a 'requests' könyvtárral.\n",
        "# A 'response' változóba mentjük a válaszat.\n",
        "try:\n",
        "    response = requests.get(api_url, params=params)\n",
        "    response.raise_for_status()  # Hibakezelés: ha a kérés sikertelen, kivételt dob.\n",
        "\n",
        "    # A kapott válasz JSON formátumú, amit feldolgozunk.\n",
        "    weather_data = response.json()\n",
        "\n",
        "    # A JSON adatok kinyomtatása, hogy lássuk, milyen információkat kaptunk.\n",
        "    print(\"API Válasz (JSON):\")\n",
        "    print(json.dumps(weather_data, indent=2))\n",
        "\n",
        "    # Az aktuális hőmérséklet kinyerése a JSON válaszból.\n",
        "    current_temp = weather_data[\"current_weather\"][\"temperature\"]\n",
        "    print(f\"\\nA jelenlegi hőmérséklet Budapesten: {current_temp}°C\")\n",
        "\n",
        "except requests.exceptions.RequestException as e:\n",
        "    # Hibaüzenet, ha a kérés sikertelen volt.\n",
        "    print(f\"Hiba történt az API kérése során: {e}\")\n",
        "\n",
        "# A Python interpreter jelzi, hogy a tool (eszköz) befejezte a munkát.\n",
        "print(\"--- [TOOL END] ---\")"
      ],
      "outputs": [
        {
          "output_type": "stream",
          "name": "stdout",
          "text": [
            "--- [TOOL START] ---\n",
            "API Válasz (JSON):\n",
            "{\n",
            "  \"latitude\": 47.501236,\n",
            "  \"longitude\": 19.03534,\n",
            "  \"generationtime_ms\": 0.08511543273925781,\n",
            "  \"utc_offset_seconds\": 0,\n",
            "  \"timezone\": \"GMT\",\n",
            "  \"timezone_abbreviation\": \"GMT\",\n",
            "  \"elevation\": 113.0,\n",
            "  \"current_weather_units\": {\n",
            "    \"time\": \"iso8601\",\n",
            "    \"interval\": \"seconds\",\n",
            "    \"temperature\": \"\\u00b0C\",\n",
            "    \"windspeed\": \"km/h\",\n",
            "    \"winddirection\": \"\\u00b0\",\n",
            "    \"is_day\": \"\",\n",
            "    \"weathercode\": \"wmo code\"\n",
            "  },\n",
            "  \"current_weather\": {\n",
            "    \"time\": \"2025-08-14T13:30\",\n",
            "    \"interval\": 900,\n",
            "    \"temperature\": 35.4,\n",
            "    \"windspeed\": 2.5,\n",
            "    \"winddirection\": 193,\n",
            "    \"is_day\": 1,\n",
            "    \"weathercode\": 0\n",
            "  }\n",
            "}\n",
            "\n",
            "A jelenlegi hőmérséklet Budapesten: 35.4°C\n",
            "--- [TOOL END] ---\n"
          ]
        }
      ],
      "execution_count": 1,
      "metadata": {
        "colab": {
          "base_uri": "https://localhost:8080/"
        },
        "id": "CnHioIQKzttW",
        "outputId": "06aade39-4c2d-4def-d941-2587657fb54b"
      }
    }
  ],
  "metadata": {
    "colab": {
      "provenance": [],
      "include_colab_link": true
    },
    "kernelspec": {
      "display_name": "Python 3",
      "name": "python3"
    }
  },
  "nbformat": 4,
  "nbformat_minor": 0
}